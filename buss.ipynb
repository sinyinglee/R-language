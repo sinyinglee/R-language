{
 "cells": [
  {
   "cell_type": "code",
   "execution_count": 1,
   "metadata": {},
   "outputs": [],
   "source": [
    "from bs4 import BeautifulSoup\n",
    "import requests\n",
    "import pandas as pd\n",
    "import csv"
   ]
  },
  {
   "cell_type": "code",
   "execution_count": 2,
   "metadata": {},
   "outputs": [],
   "source": [
    "city = []\n",
    "operator =[]"
   ]
  },
  {
   "cell_type": "code",
   "execution_count": 3,
   "metadata": {},
   "outputs": [],
   "source": [
    "with open(\"Bus_operator.csv\") as csvfile:\n",
    "    readCSV = csv.reader(csvfile)\n",
    "    for row in readCSV:\n",
    "        city.append(row[0])\n",
    "        operator.append(row[1])"
   ]
  },
  {
   "cell_type": "code",
   "execution_count": 5,
   "metadata": {},
   "outputs": [],
   "source": [
    "operator_split = operator[1].split(\",\")"
   ]
  },
  {
   "cell_type": "code",
   "execution_count": 6,
   "metadata": {
    "collapsed": true
   },
   "outputs": [
    {
     "data": {
      "text/plain": [
       "['新北客運',\n",
       " '首都客運',\n",
       " '福和客運',\n",
       " '臺北客運',\n",
       " '基隆客運',\n",
       " '國光客運',\n",
       " '中興大業巴士',\n",
       " '光華巴士',\n",
       " '大都會客運',\n",
       " '泰樂客運']"
      ]
     },
     "execution_count": 6,
     "metadata": {},
     "output_type": "execute_result"
    }
   ],
   "source": [
    "operator_split"
   ]
  },
  {
   "cell_type": "code",
   "execution_count": 7,
   "metadata": {},
   "outputs": [
    {
     "data": {
      "text/plain": [
       "22"
      ]
     },
     "execution_count": 7,
     "metadata": {},
     "output_type": "execute_result"
    }
   ],
   "source": [
    "len(operator)"
   ]
  },
  {
   "cell_type": "code",
   "execution_count": 16,
   "metadata": {},
   "outputs": [],
   "source": [
    "for i in range(1,len(city)):\n",
    "    operator_split = operator[i].split(\",\")\n",
    "    emp = []\n",
    "    for a in range(len(operator_split)):\n",
    "        example = str(f\"https://www.taiwanbus.tw/Route.aspx?bus={operator_split[a]}&CityText={city[i]}\")\n",
    "        emp.append(example)\n",
    "    for i in emp:\n",
    "        source = requests.get(i).text\n",
    "        soup = BeautifulSoup(source,\"lxml\")\n",
    "        get_info = soup.find(\"table\", style=\"background:#eaeaea\")\n",
    "        with open(\"my.csv\",\"w\", newline = '') as f:\n",
    "            thewriter = csv.writer(f)\n",
    "            for i in get_info.find_all(\"tr\"): \n",
    "                tr_list = []\n",
    "                for td in i.find_all(\"td\"):\n",
    "                    tr_list.append(td.text)\n",
    "                thewriter.writerow(tr_list)\n",
    "        \n",
    "        \n",
    "    \n",
    "    "
   ]
  },
  {
   "cell_type": "code",
   "execution_count": null,
   "metadata": {
    "scrolled": true
   },
   "outputs": [],
   "source": []
  },
  {
   "cell_type": "code",
   "execution_count": null,
   "metadata": {},
   "outputs": [],
   "source": []
  }
 ],
 "metadata": {
  "kernelspec": {
   "display_name": "Python 3",
   "language": "python",
   "name": "python3"
  },
  "language_info": {
   "codemirror_mode": {
    "name": "ipython",
    "version": 3
   },
   "file_extension": ".py",
   "mimetype": "text/x-python",
   "name": "python",
   "nbconvert_exporter": "python",
   "pygments_lexer": "ipython3",
   "version": "3.7.3"
  }
 },
 "nbformat": 4,
 "nbformat_minor": 2
}
