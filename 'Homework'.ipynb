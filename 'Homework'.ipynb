{
 "cells": [
  {
   "cell_type": "code",
   "execution_count": null,
   "metadata": {},
   "outputs": [],
   "source": [
    "## Homework - Q1\n",
    "\n",
    "stock.data <- read_csv(\"TWSE_Stock Data_2012-2017.csv\")\n",
    "\n",
    "stock.colnames <- colnames(stock.data)\n",
    "\n",
    "stock.new <- stock.data %>%\n",
    "  gather(\n",
    "    key = \"date\",\n",
    "    value = \"price\", \n",
    "    stock.colnames[3:ncol(stock.data)]\n",
    "  )\n",
    "\n",
    "stock.new\n",
    "\n",
    "stock.data\n",
    "\n",
    "# Q2\n",
    "\n",
    "stock.new <- stock.new %>%\n",
    "  spread(\n",
    "    key = type,\n",
    "    value = price,\n",
    "  )\n",
    "\n",
    "stock.new\n",
    "\n",
    "# Q3\n",
    "\n",
    "stock.new <- stock.new %>%\n",
    "  separate(\n",
    "    col = date,\n",
    "    into = c(\"year\", 'month', 'day'),\n",
    "    sep = \"/\"\n",
    "  )\n",
    "\n",
    "stock.new\n"
   ]
  }
 ],
 "metadata": {
  "kernelspec": {
   "display_name": "R",
   "language": "R",
   "name": "ir"
  },
  "language_info": {
   "codemirror_mode": "r",
   "file_extension": ".r",
   "mimetype": "text/x-r-source",
   "name": "R",
   "pygments_lexer": "r",
   "version": "3.6.1"
  }
 },
 "nbformat": 4,
 "nbformat_minor": 2
}
